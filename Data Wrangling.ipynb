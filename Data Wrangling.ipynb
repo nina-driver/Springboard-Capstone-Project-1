{
 "cells": [
  {
   "cell_type": "code",
   "execution_count": 3,
   "metadata": {},
   "outputs": [
    {
     "name": "stdout",
     "output_type": "stream",
     "text": [
      "                                Region  Happiness Rank  Happiness Score  \\\n",
      "Country                                                                   \n",
      "Switzerland             Western Europe               1            7.587   \n",
      "Iceland                 Western Europe               2            7.561   \n",
      "Denmark                 Western Europe               3            7.527   \n",
      "Norway                  Western Europe               4            7.522   \n",
      "Canada                   North America               5            7.427   \n",
      "Finland                 Western Europe               6            7.406   \n",
      "Netherlands             Western Europe               7            7.378   \n",
      "Sweden                  Western Europe               8            7.364   \n",
      "New Zealand  Australia and New Zealand               9            7.286   \n",
      "Australia    Australia and New Zealand              10            7.284   \n",
      "\n",
      "             Standard Error  Economy (GDP per Capita)   Family  \\\n",
      "Country                                                          \n",
      "Switzerland         0.03411                   1.39651  1.34951   \n",
      "Iceland             0.04884                   1.30232  1.40223   \n",
      "Denmark             0.03328                   1.32548  1.36058   \n",
      "Norway              0.03880                   1.45900  1.33095   \n",
      "Canada              0.03553                   1.32629  1.32261   \n",
      "Finland             0.03140                   1.29025  1.31826   \n",
      "Netherlands         0.02799                   1.32944  1.28017   \n",
      "Sweden              0.03157                   1.33171  1.28907   \n",
      "New Zealand         0.03371                   1.25018  1.31967   \n",
      "Australia           0.04083                   1.33358  1.30923   \n",
      "\n",
      "             Health (Life Expectancy)  Freedom  Trust (Government Corruption)  \\\n",
      "Country                                                                         \n",
      "Switzerland                   0.94143  0.66557                        0.41978   \n",
      "Iceland                       0.94784  0.62877                        0.14145   \n",
      "Denmark                       0.87464  0.64938                        0.48357   \n",
      "Norway                        0.88521  0.66973                        0.36503   \n",
      "Canada                        0.90563  0.63297                        0.32957   \n",
      "Finland                       0.88911  0.64169                        0.41372   \n",
      "Netherlands                   0.89284  0.61576                        0.31814   \n",
      "Sweden                        0.91087  0.65980                        0.43844   \n",
      "New Zealand                   0.90837  0.63938                        0.42922   \n",
      "Australia                     0.93156  0.65124                        0.35637   \n",
      "\n",
      "             Generosity  Dystopia Residual  \n",
      "Country                                     \n",
      "Switzerland     0.29678            2.51738  \n",
      "Iceland         0.43630            2.70201  \n",
      "Denmark         0.34139            2.49204  \n",
      "Norway          0.34699            2.46531  \n",
      "Canada          0.45811            2.45176  \n",
      "Finland         0.23351            2.61955  \n",
      "Netherlands     0.47610            2.46570  \n",
      "Sweden          0.36262            2.37119  \n",
      "New Zealand     0.47501            2.26425  \n",
      "Australia       0.43562            2.26646  \n"
     ]
    }
   ],
   "source": [
    "import pandas as pd\n",
    "\n",
    "wh_2015 = pd.read_csv('worldHappiness2015.csv', index_col=0)\n",
    "wh_2016 = pd.read_csv('worldHappiness2016.csv', index_col=0)\n",
    "wh_2017 = pd.read_csv('worldHappiness2017.csv', index_col=0)\n",
    "\n",
    "print(wh_2015.head(10))"
   ]
  },
  {
   "cell_type": "code",
   "execution_count": null,
   "metadata": {},
   "outputs": [],
   "source": []
  }
 ],
 "metadata": {
  "kernelspec": {
   "display_name": "Python [conda env:Capstone1] *",
   "language": "python",
   "name": "conda-env-Capstone1-py"
  },
  "language_info": {
   "codemirror_mode": {
    "name": "ipython",
    "version": 3
   },
   "file_extension": ".py",
   "mimetype": "text/x-python",
   "name": "python",
   "nbconvert_exporter": "python",
   "pygments_lexer": "ipython3",
   "version": "3.7.5"
  }
 },
 "nbformat": 4,
 "nbformat_minor": 2
}
